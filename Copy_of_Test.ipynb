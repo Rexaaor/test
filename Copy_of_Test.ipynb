{
  "nbformat": 4,
  "nbformat_minor": 0,
  "metadata": {
    "colab": {
      "provenance": []
    },
    "kernelspec": {
      "name": "python3",
      "display_name": "Python 3"
    },
    "language_info": {
      "name": "python"
    }
  },
  "cells": [
    {
      "cell_type": "code",
      "execution_count": null,
      "metadata": {
        "id": "LzPEt5qdFWi5"
      },
      "outputs": [],
      "source": [
        "print(\"Coba Program Disini\")"
      ]
    }
  ]
}